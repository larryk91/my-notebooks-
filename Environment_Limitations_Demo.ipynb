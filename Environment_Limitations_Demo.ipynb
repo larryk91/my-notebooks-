{
  "nbformat": 4,
  "nbformat_minor": 0,
  "metadata": {
    "colab": {
      "name": "Environment Limitations Demo",
      "provenance": [],
      "include_colab_link": true
    },
    "kernelspec": {
      "name": "python3",
      "display_name": "Python 3"
    },
    "language_info": {
      "name": "python"
    }
  },
  "cells": [
    {
      "cell_type": "markdown",
      "metadata": {
        "id": "view-in-github",
        "colab_type": "text"
      },
      "source": [
        "<a href=\"https://colab.research.google.com/github/larryk91/my-notebooks-/blob/main/Environment_Limitations_Demo.ipynb\" target=\"_parent\"><img src=\"https://colab.research.google.com/assets/colab-badge.svg\" alt=\"Open In Colab\"/></a>"
      ]
    },
    {
      "cell_type": "markdown",
      "metadata": {
        "id": "oj1RlmG_ZmFz"
      },
      "source": [
        "# Memory Constraints"
      ]
    },
    {
      "cell_type": "markdown",
      "metadata": {
        "id": "-VynomzYZTyT"
      },
      "source": [
        "The following cell, when run, will infinitely perform some calculations and store data in variables in the program's / notebook's memory. Running this cell will eventually exceed the colab's notebook's RAM / memory, resulting in a crash."
      ]
    },
    {
      "cell_type": "code",
      "metadata": {
        "id": "Mys4naM8XX-b"
      },
      "source": [
        "\n",
        "my_numbers = []\n",
        "counter = 0\n",
        "while True:\n",
        "    print(\"DOING STUFF...\")\n",
        "    counter+=1\n",
        "    my_numbers.append(counter)\n",
        "    my_numbers += my_numbers\n",
        "    print(len(my_numbers))"
      ],
      "execution_count": null,
      "outputs": []
    },
    {
      "cell_type": "markdown",
      "metadata": {
        "id": "ViROTD5LZsiP"
      },
      "source": [
        "# Disk Space Constraints"
      ]
    },
    {
      "cell_type": "markdown",
      "metadata": {
        "id": "Y_2eUSmyZsUL"
      },
      "source": [
        "The following cell, when run, will infinitely save more and more data to the computer / notebook's disk space (i.e. adding lines to a text file). Running this cell will eventually exceed the colab's notebook's disk space, resulting in a crash."
      ]
    },
    {
      "cell_type": "code",
      "metadata": {
        "colab": {
          "base_uri": "https://localhost:8080/",
          "height": 1000
        },
        "id": "MaTGhdeVZtBv",
        "outputId": "8bdc57d2-b934-4863-bec0-e494844320f8"
      },
      "source": [
        "with open(\"my_file.txt\", \"w\") as txt_file:\n",
        "    while True:\n",
        "        print(\"WRITING TO FILE...\")\n",
        "        txt_file.write(\"MY MESSAGE\"*100000000)\n"
      ],
      "execution_count": null,
      "outputs": [
        {
          "output_type": "stream",
          "name": "stdout",
          "text": [
            "WRITING TO FILE...\n",
            "WRITING TO FILE...\n",
            "WRITING TO FILE...\n",
            "WRITING TO FILE...\n",
            "WRITING TO FILE...\n",
            "WRITING TO FILE...\n",
            "WRITING TO FILE...\n",
            "WRITING TO FILE...\n",
            "WRITING TO FILE...\n",
            "WRITING TO FILE...\n",
            "WRITING TO FILE...\n",
            "WRITING TO FILE...\n",
            "WRITING TO FILE...\n",
            "WRITING TO FILE...\n",
            "WRITING TO FILE...\n",
            "WRITING TO FILE...\n",
            "WRITING TO FILE...\n",
            "WRITING TO FILE...\n",
            "WRITING TO FILE...\n",
            "WRITING TO FILE...\n",
            "WRITING TO FILE...\n",
            "WRITING TO FILE...\n",
            "WRITING TO FILE...\n",
            "WRITING TO FILE...\n",
            "WRITING TO FILE...\n",
            "WRITING TO FILE...\n",
            "WRITING TO FILE...\n",
            "WRITING TO FILE...\n",
            "WRITING TO FILE...\n",
            "WRITING TO FILE...\n",
            "WRITING TO FILE...\n",
            "WRITING TO FILE...\n",
            "WRITING TO FILE...\n",
            "WRITING TO FILE...\n",
            "WRITING TO FILE...\n",
            "WRITING TO FILE...\n",
            "WRITING TO FILE...\n",
            "WRITING TO FILE...\n",
            "WRITING TO FILE...\n",
            "WRITING TO FILE...\n",
            "WRITING TO FILE...\n",
            "WRITING TO FILE...\n",
            "WRITING TO FILE...\n",
            "WRITING TO FILE...\n",
            "WRITING TO FILE...\n",
            "WRITING TO FILE...\n",
            "WRITING TO FILE...\n",
            "WRITING TO FILE...\n",
            "WRITING TO FILE...\n",
            "WRITING TO FILE...\n",
            "WRITING TO FILE...\n",
            "WRITING TO FILE...\n",
            "WRITING TO FILE...\n",
            "WRITING TO FILE...\n",
            "WRITING TO FILE...\n",
            "WRITING TO FILE...\n",
            "WRITING TO FILE...\n",
            "WRITING TO FILE...\n",
            "WRITING TO FILE...\n",
            "WRITING TO FILE...\n",
            "WRITING TO FILE...\n",
            "WRITING TO FILE...\n",
            "WRITING TO FILE...\n",
            "WRITING TO FILE...\n",
            "WRITING TO FILE...\n",
            "WRITING TO FILE...\n",
            "WRITING TO FILE...\n",
            "WRITING TO FILE...\n",
            "WRITING TO FILE...\n",
            "WRITING TO FILE...\n",
            "WRITING TO FILE...\n",
            "WRITING TO FILE...\n",
            "WRITING TO FILE...\n",
            "WRITING TO FILE...\n",
            "WRITING TO FILE...\n",
            "WRITING TO FILE...\n",
            "WRITING TO FILE...\n"
          ]
        },
        {
          "output_type": "error",
          "ename": "OSError",
          "evalue": "ignored",
          "traceback": [
            "\u001b[0;31m---------------------------------------------------------------------------\u001b[0m",
            "\u001b[0;31mOSError\u001b[0m                                   Traceback (most recent call last)",
            "\u001b[0;32m<ipython-input-1-e69ebd61dee8>\u001b[0m in \u001b[0;36m<module>\u001b[0;34m()\u001b[0m\n\u001b[1;32m      2\u001b[0m     \u001b[0;32mwhile\u001b[0m \u001b[0;32mTrue\u001b[0m\u001b[0;34m:\u001b[0m\u001b[0;34m\u001b[0m\u001b[0;34m\u001b[0m\u001b[0m\n\u001b[1;32m      3\u001b[0m         \u001b[0mprint\u001b[0m\u001b[0;34m(\u001b[0m\u001b[0;34m\"WRITING TO FILE...\"\u001b[0m\u001b[0;34m)\u001b[0m\u001b[0;34m\u001b[0m\u001b[0;34m\u001b[0m\u001b[0m\n\u001b[0;32m----> 4\u001b[0;31m         \u001b[0mtxt_file\u001b[0m\u001b[0;34m.\u001b[0m\u001b[0mwrite\u001b[0m\u001b[0;34m(\u001b[0m\u001b[0;34m\"MY MESSAGE\"\u001b[0m\u001b[0;34m*\u001b[0m\u001b[0;36m100000000\u001b[0m\u001b[0;34m)\u001b[0m\u001b[0;34m\u001b[0m\u001b[0;34m\u001b[0m\u001b[0m\n\u001b[0m",
            "\u001b[0;31mOSError\u001b[0m: [Errno 28] No space left on device"
          ]
        }
      ]
    }
  ]
}