{
  "nbformat": 4,
  "nbformat_minor": 0,
  "metadata": {
    "colab": {
      "name": "Python Cheat Sheet (In-class 2021)",
      "provenance": [],
      "collapsed_sections": [
        "PWDvUTKo376e",
        "t3ZzVWbb7f8n"
      ],
      "toc_visible": true,
      "include_colab_link": true
    },
    "kernelspec": {
      "name": "python3",
      "display_name": "Python 3"
    },
    "language_info": {
      "name": "python"
    }
  },
  "cells": [
    {
      "cell_type": "markdown",
      "metadata": {
        "id": "view-in-github",
        "colab_type": "text"
      },
      "source": [
        "<a href=\"https://colab.research.google.com/github/larryk91/my-notebooks-/blob/main/Python_Cheat_Sheet_(In_class_2021).ipynb\" target=\"_parent\"><img src=\"https://colab.research.google.com/assets/colab-badge.svg\" alt=\"Open In Colab\"/></a>"
      ]
    },
    {
      "cell_type": "markdown",
      "metadata": {
        "id": "PWDvUTKo376e"
      },
      "source": [
        "## Variables"
      ]
    },
    {
      "cell_type": "code",
      "metadata": {
        "colab": {
          "base_uri": "https://localhost:8080/"
        },
        "id": "MmavD0Wp3t-1",
        "outputId": "6cdffb5f-1aff-4cb4-a45e-37c5a149efee"
      },
      "source": [
        "# variable assignment\n",
        "\n",
        "x = 5\n",
        "\n",
        "print(x)\n",
        "\n",
        "# variable re-assignment\n",
        "\n",
        "x = 8\n",
        "\n",
        "print(x)\n",
        "\n",
        "# reference the same variable when updating its value\n",
        "\n",
        "x = x + 10 # the right side is eval first\n",
        "\n",
        "print(x)\n",
        "\n",
        "x += 10 # this is equiv \n",
        "\n",
        "print(x)"
      ],
      "execution_count": null,
      "outputs": [
        {
          "output_type": "stream",
          "name": "stdout",
          "text": [
            "5\n",
            "8\n",
            "18\n",
            "28\n"
          ]
        }
      ]
    },
    {
      "cell_type": "markdown",
      "metadata": {
        "id": "C4qkEupRv4P-"
      },
      "source": [
        "let's prefer to use verbose, descriptive variable names, to help us remember what that variable means."
      ]
    },
    {
      "cell_type": "code",
      "metadata": {
        "colab": {
          "base_uri": "https://localhost:8080/"
        },
        "id": "T2bGDGMcveHo",
        "outputId": "3520c9e9-5ae4-4093-9ad7-48cbc71720d7"
      },
      "source": [
        "speed_limit = 45\n",
        "speed_mph = 60\n",
        "\n",
        "print(speed_limit)\n",
        "print(speed_mph)"
      ],
      "execution_count": null,
      "outputs": [
        {
          "output_type": "stream",
          "name": "stdout",
          "text": [
            "45\n",
            "60\n"
          ]
        }
      ]
    },
    {
      "cell_type": "code",
      "metadata": {
        "colab": {
          "base_uri": "https://localhost:8080/"
        },
        "id": "IOd8EZWlvQmi",
        "outputId": "e0c6a204-5cca-4d01-8693-48f770d41dfd"
      },
      "source": [
        "my_message = \"HELLO\" # variable assignment, using a textual message (must be surrounded by quotes)\n",
        "\n",
        "print(my_message)"
      ],
      "execution_count": null,
      "outputs": [
        {
          "output_type": "stream",
          "name": "stdout",
          "text": [
            "HELLO\n"
          ]
        }
      ]
    },
    {
      "cell_type": "markdown",
      "metadata": {
        "id": "t3ZzVWbb7f8n"
      },
      "source": [
        "## Built-in Functions\n",
        "\n",
        "https://docs.python.org/3/library/functions.html\n",
        "\n",
        "These ones are for logging and debugging."
      ]
    },
    {
      "cell_type": "code",
      "metadata": {
        "colab": {
          "base_uri": "https://localhost:8080/"
        },
        "id": "mn13bxI97iQJ",
        "outputId": "ec81d9b2-3fcd-4c53-dc33-e5ec1e9f4ebe"
      },
      "source": [
        "print(\"HELLO\")"
      ],
      "execution_count": null,
      "outputs": [
        {
          "output_type": "stream",
          "name": "stdout",
          "text": [
            "HELLO\n"
          ]
        }
      ]
    },
    {
      "cell_type": "code",
      "metadata": {
        "colab": {
          "base_uri": "https://localhost:8080/"
        },
        "id": "zUSbtgId7rnX",
        "outputId": "70448162-9e2f-42f6-d9ba-5bc3cc45af12"
      },
      "source": [
        "z = 10\n",
        "print(z)\n",
        "\n",
        "# this works locally but not in colab\n",
        "#breakpoint()\n",
        "\n",
        "z = 9999\n",
        "print(z)\n"
      ],
      "execution_count": null,
      "outputs": [
        {
          "output_type": "stream",
          "name": "stdout",
          "text": [
            "10\n",
            "9999\n"
          ]
        }
      ]
    },
    {
      "cell_type": "markdown",
      "metadata": {
        "id": "cCtLhwJ091U9"
      },
      "source": [
        "## Conditionals\n",
        "\n",
        "\n"
      ]
    },
    {
      "cell_type": "markdown",
      "metadata": {
        "id": "k28LNWys9_4h"
      },
      "source": [
        "Boolean Values:\n",
        "  + `True`\n",
        "  + `False`\n",
        "\n",
        "They are inverse / opposite of eachother. \n",
        "\n"
      ]
    },
    {
      "cell_type": "code",
      "metadata": {
        "colab": {
          "base_uri": "https://localhost:8080/"
        },
        "id": "LEgKjP3Y939_",
        "outputId": "aeb859ba-659b-4c73-de82-38e618a55406"
      },
      "source": [
        "print(True)\n",
        "\n",
        "print(False)"
      ],
      "execution_count": null,
      "outputs": [
        {
          "output_type": "stream",
          "name": "stdout",
          "text": [
            "True\n",
            "False\n"
          ]
        }
      ]
    },
    {
      "cell_type": "markdown",
      "metadata": {
        "id": "-dHq6dKZtpF6"
      },
      "source": [
        "Boolean values form the basis of conditional logic. \n",
        "\n",
        "If statements are looking to evaluate one or more logical conditions."
      ]
    },
    {
      "cell_type": "code",
      "metadata": {
        "colab": {
          "base_uri": "https://localhost:8080/"
        },
        "id": "g6uKYXZn-eqm",
        "outputId": "bea8af62-1952-46c4-94e2-672d8561882f"
      },
      "source": [
        "if True:\n",
        "    print(\"YEP\")\n",
        "else:\n",
        "    print(\"NOPE\")\n",
        "\n",
        "print(\"LATER ON\")"
      ],
      "execution_count": null,
      "outputs": [
        {
          "output_type": "stream",
          "name": "stdout",
          "text": [
            "YEP\n",
            "LATER ON\n"
          ]
        }
      ]
    },
    {
      "cell_type": "code",
      "metadata": {
        "colab": {
          "base_uri": "https://localhost:8080/"
        },
        "id": "fF0fgb3l-48S",
        "outputId": "2e1eacd9-4a24-46f8-bd93-14140acd58aa"
      },
      "source": [
        "if False:\n",
        "    print(\"YEP\")\n",
        "else:\n",
        "    print(\"NOPE\")\n",
        "\n",
        "print(\"LATER ON\")"
      ],
      "execution_count": null,
      "outputs": [
        {
          "output_type": "stream",
          "name": "stdout",
          "text": [
            "NOPE\n",
            "LATER ON\n"
          ]
        }
      ]
    },
    {
      "cell_type": "code",
      "metadata": {
        "colab": {
          "base_uri": "https://localhost:8080/"
        },
        "id": "6Nd3lSSr_Elv",
        "outputId": "59304670-1f4d-43a1-8693-8d4bfa6b5473"
      },
      "source": [
        "if False:\n",
        "    print(\"YEP\")\n",
        "elif False:\n",
        "    print(\"MAYBE\")\n",
        "else:\n",
        "    print(\"NOPE\")\n",
        "\n",
        "print(\"LATER ON\")"
      ],
      "execution_count": null,
      "outputs": [
        {
          "output_type": "stream",
          "name": "stdout",
          "text": [
            "NOPE\n",
            "LATER ON\n"
          ]
        }
      ]
    },
    {
      "cell_type": "markdown",
      "metadata": {
        "id": "z-LMY2d4_ZxI"
      },
      "source": [
        "equality checking (using double equals sign)"
      ]
    },
    {
      "cell_type": "code",
      "metadata": {
        "colab": {
          "base_uri": "https://localhost:8080/"
        },
        "id": "AWAgO0YD_cf1",
        "outputId": "dc06ef35-b37e-44a1-98b9-83261a554f60"
      },
      "source": [
        "a = 5 # variable assignment (using single equals sign)\n",
        "\n",
        "# equality comparisions (using double equals sign)...\n",
        "# \"is what's on the left equal to whats on the right?\"\n",
        "# will result in either True or False\n",
        "\n",
        "print(a == 10) # is the value of variable a equal to the number 10?\n",
        "\n",
        "print(a == 5) # is the value of variable a equal to the number 5?"
      ],
      "execution_count": null,
      "outputs": [
        {
          "output_type": "stream",
          "name": "stdout",
          "text": [
            "False\n",
            "True\n"
          ]
        }
      ]
    },
    {
      "cell_type": "code",
      "metadata": {
        "colab": {
          "base_uri": "https://localhost:8080/"
        },
        "id": "tdoAsdS7AAQk",
        "outputId": "324ed730-06f8-46d2-dbc4-b6727cee3c92"
      },
      "source": [
        "m = 100\n",
        "\n",
        "if m == 50:\n",
        "    print(\"YEP\")\n",
        "else:\n",
        "    print(\"NOPE\")"
      ],
      "execution_count": null,
      "outputs": [
        {
          "output_type": "stream",
          "name": "stdout",
          "text": [
            "NOPE\n"
          ]
        }
      ]
    },
    {
      "cell_type": "code",
      "metadata": {
        "colab": {
          "base_uri": "https://localhost:8080/"
        },
        "id": "pSQLaUlyAg2y",
        "outputId": "6d0447c2-3fb7-4320-bf83-3767c9f53f5c"
      },
      "source": [
        "my_message = \"HELLO\"\n",
        "\n",
        "print(my_message)\n",
        "\n",
        "if my_message == \"YOLO\":\n",
        "    print(\"YEP\")\n",
        "else:\n",
        "    print(\"NOPE\")"
      ],
      "execution_count": null,
      "outputs": [
        {
          "output_type": "stream",
          "name": "stdout",
          "text": [
            "HELLO\n",
            "NOPE\n"
          ]
        }
      ]
    },
    {
      "cell_type": "code",
      "metadata": {
        "colab": {
          "base_uri": "https://localhost:8080/"
        },
        "id": "Bm5WYCQPAqek",
        "outputId": "01c3cee2-cbff-485b-8b8c-afd07734e8fe"
      },
      "source": [
        "print(\"HELLO\" == \"YOLO\")\n",
        "print(\"HELLO\" == \"hello\")"
      ],
      "execution_count": null,
      "outputs": [
        {
          "output_type": "stream",
          "name": "stdout",
          "text": [
            "False\n",
            "False\n"
          ]
        }
      ]
    },
    {
      "cell_type": "code",
      "metadata": {
        "colab": {
          "base_uri": "https://localhost:8080/"
        },
        "id": "xW4pzaipBFwO",
        "outputId": "c42b6d84-4e20-4f47-adf8-c29a9b5d286c"
      },
      "source": [
        "my_message = \"HELLO\"\n",
        "\n",
        "if my_message == \"YOLO\":\n",
        "    print(\"YEP\")\n",
        "elif my_message == \"NONO\":\n",
        "    print(\"NO NO\")\n",
        "elif my_message == \"BANANA\":\n",
        "    print(\"BANANAS\")\n",
        "else:\n",
        "    print(\"NOPE\")\n",
        "\n"
      ],
      "execution_count": null,
      "outputs": [
        {
          "output_type": "stream",
          "name": "stdout",
          "text": [
            "NOPE\n"
          ]
        }
      ]
    },
    {
      "cell_type": "code",
      "metadata": {
        "colab": {
          "base_uri": "https://localhost:8080/"
        },
        "id": "fxSLhgakBohW",
        "outputId": "70e0446b-8f90-4e47-ad1a-4c55b6093916"
      },
      "source": [
        "my_message = \"HELLO\"\n",
        "\n",
        "if my_message == \"YOLO\":\n",
        "    print(\"YOLO\")\n",
        "elif my_message == \"HELLO\":\n",
        "    print(\"YEP\")\n",
        "elif my_message == \"HELLO\":\n",
        "    print(\"YEP AGAIN\")\n",
        "else:\n",
        "    print(\"NOPE\")\n",
        "\n",
        "print(\"END\")"
      ],
      "execution_count": null,
      "outputs": [
        {
          "output_type": "stream",
          "name": "stdout",
          "text": [
            "YEP\n",
            "END\n"
          ]
        }
      ]
    },
    {
      "cell_type": "code",
      "metadata": {
        "colab": {
          "base_uri": "https://localhost:8080/"
        },
        "id": "pG9lYXKiCyQX",
        "outputId": "bb7d87a8-a749-475c-a14a-d6e51a3fcfa9"
      },
      "source": [
        "if False:\n",
        "    print(\"NOPE\")\n",
        "\n",
        "print(\"END\")"
      ],
      "execution_count": null,
      "outputs": [
        {
          "output_type": "stream",
          "name": "stdout",
          "text": [
            "END\n"
          ]
        }
      ]
    },
    {
      "cell_type": "markdown",
      "metadata": {
        "id": "yX2bX7LXGpan"
      },
      "source": [
        "## Python Operators"
      ]
    },
    {
      "cell_type": "markdown",
      "metadata": {
        "id": "zy1bgWKZGtiA"
      },
      "source": [
        "equality operators \n",
        "  + \"is this equal to that?\"\n",
        "  + \"is this not equal to that?\""
      ]
    },
    {
      "cell_type": "code",
      "metadata": {
        "colab": {
          "base_uri": "https://localhost:8080/"
        },
        "id": "IFspF5SKGrpp",
        "outputId": "cff29438-9fec-418a-c4c4-db5d6f22d8f3"
      },
      "source": [
        "x = 5\n",
        "y = 6\n",
        "\n",
        "print(x == y)\n",
        "print(x != y)"
      ],
      "execution_count": null,
      "outputs": [
        {
          "output_type": "stream",
          "name": "stdout",
          "text": [
            "False\n",
            "True\n"
          ]
        }
      ]
    },
    {
      "cell_type": "markdown",
      "metadata": {
        "id": "L44nDr8PG_yK"
      },
      "source": [
        "logical operators:\n",
        "  + AND\n",
        "  + OR"
      ]
    },
    {
      "cell_type": "code",
      "metadata": {
        "colab": {
          "base_uri": "https://localhost:8080/"
        },
        "id": "gxtIUlKLHRKg",
        "outputId": "b7e64820-cb02-4170-9049-caddb2083421"
      },
      "source": [
        "print(True and True) #> True\n",
        "print(True and False) #> False\n",
        "print(False and False) #> False"
      ],
      "execution_count": null,
      "outputs": [
        {
          "output_type": "stream",
          "name": "stdout",
          "text": [
            "True\n",
            "False\n",
            "False\n"
          ]
        }
      ]
    },
    {
      "cell_type": "code",
      "metadata": {
        "colab": {
          "base_uri": "https://localhost:8080/"
        },
        "id": "QQaRzW2eLsq3",
        "outputId": "0f0756de-ed48-48f9-e807-db7e6124e1f7"
      },
      "source": [
        "print(2==2 and 10==10)"
      ],
      "execution_count": null,
      "outputs": [
        {
          "output_type": "stream",
          "name": "stdout",
          "text": [
            "True\n"
          ]
        }
      ]
    },
    {
      "cell_type": "code",
      "metadata": {
        "colab": {
          "base_uri": "https://localhost:8080/"
        },
        "id": "KWXWL8oTLlcl",
        "outputId": "56004622-d323-4f4b-a1c6-55f382c454ab"
      },
      "source": [
        "print(True or True) #> True\n",
        "print(True or False) #> True\n",
        "print(False or True) #> True\n",
        "print(False or False) #> False"
      ],
      "execution_count": null,
      "outputs": [
        {
          "output_type": "stream",
          "name": "stdout",
          "text": [
            "True\n",
            "True\n",
            "True\n",
            "False\n"
          ]
        }
      ]
    },
    {
      "cell_type": "markdown",
      "metadata": {
        "id": "tzXahV4OG1O6"
      },
      "source": [
        "inclusion operators \n",
        "  + \"is this included in that?\"\n",
        "  + \"is this not included in that?\""
      ]
    },
    {
      "cell_type": "code",
      "metadata": {
        "colab": {
          "base_uri": "https://localhost:8080/"
        },
        "id": "moqZBTazHP4y",
        "outputId": "1e06ad9d-3b91-4e01-ec0e-063d43faa053"
      },
      "source": [
        "print(\"h\" in \"hello world\")\n",
        "print(\"H\" in \"hello world\")"
      ],
      "execution_count": null,
      "outputs": [
        {
          "output_type": "stream",
          "name": "stdout",
          "text": [
            "True\n",
            "False\n"
          ]
        }
      ]
    },
    {
      "cell_type": "code",
      "metadata": {
        "colab": {
          "base_uri": "https://localhost:8080/"
        },
        "id": "xxoPSS6fMbeO",
        "outputId": "75f02f5b-8736-48dd-c8d3-4c4f1029cd78"
      },
      "source": [
        "print(\"h\" not in \"hello world\")\n",
        "print(\"H\" not in \"hello world\")"
      ],
      "execution_count": null,
      "outputs": [
        {
          "output_type": "stream",
          "name": "stdout",
          "text": [
            "False\n",
            "True\n"
          ]
        }
      ]
    },
    {
      "cell_type": "markdown",
      "metadata": {
        "id": "fv4FVLTNM56o"
      },
      "source": [
        "## Input Function / User Inputs"
      ]
    },
    {
      "cell_type": "code",
      "metadata": {
        "colab": {
          "base_uri": "https://localhost:8080/",
          "height": 52
        },
        "id": "WBQKJmwMM8aS",
        "outputId": "a43f60da-f34c-4fac-8749-ccf0ddfc97ad"
      },
      "source": [
        "input(\"What's your favorite color?\")"
      ],
      "execution_count": null,
      "outputs": [
        {
          "name": "stdout",
          "output_type": "stream",
          "text": [
            "What's your favorite color?green\n"
          ]
        },
        {
          "output_type": "execute_result",
          "data": {
            "application/vnd.google.colaboratory.intrinsic+json": {
              "type": "string"
            },
            "text/plain": [
              "'green'"
            ]
          },
          "metadata": {},
          "execution_count": 10
        }
      ]
    },
    {
      "cell_type": "code",
      "metadata": {
        "colab": {
          "base_uri": "https://localhost:8080/"
        },
        "id": "QIPG7oQgNJFD",
        "outputId": "af51ec84-0db4-49d6-fd45-06fb9997649e"
      },
      "source": [
        "#x = input(\"What's your favorite color?\")\n",
        "fav_color = input(\"What's your favorite color?\")\n",
        "print(fav_color)"
      ],
      "execution_count": null,
      "outputs": [
        {
          "output_type": "stream",
          "name": "stdout",
          "text": [
            "What's your favorite color?pink\n",
            "pink\n"
          ]
        }
      ]
    },
    {
      "cell_type": "code",
      "metadata": {
        "colab": {
          "base_uri": "https://localhost:8080/"
        },
        "id": "puE39KsENsqc",
        "outputId": "2cc192eb-0ee2-4ab0-9f91-263aab3da051"
      },
      "source": [
        "print(fav_color == \"green\")"
      ],
      "execution_count": null,
      "outputs": [
        {
          "output_type": "stream",
          "name": "stdout",
          "text": [
            "False\n"
          ]
        }
      ]
    },
    {
      "cell_type": "markdown",
      "metadata": {
        "id": "p8avqGJB3mmw"
      },
      "source": [
        "# Datatypes"
      ]
    },
    {
      "cell_type": "markdown",
      "metadata": {
        "id": "uzroadsT3_JI"
      },
      "source": [
        "Detecting the datatype of any object:"
      ]
    },
    {
      "cell_type": "code",
      "metadata": {
        "colab": {
          "base_uri": "https://localhost:8080/"
        },
        "id": "J6OK1lSC39jp",
        "outputId": "feda2e13-dfd4-4a3d-c7df-638d1428d8b9"
      },
      "source": [
        "print(type(\"Hello\")) #> <type 'str'>\n",
        "print(type(\"100\")) #> <type 'str'>\n",
        "print(type(100)) #> <type 'int'>\n",
        "print(type(0.45)) #> <type 'float'>\n",
        "print(type(True)) #> <type 'bool'>\n",
        "print(type(False)) #> <type 'bool'>\n",
        "print(type(None)) #> <type 'NoneType'>\n",
        "print(type({\"a\":1, \"b\":2, \"c\":3})) #> <type 'dict'>\n",
        "print(type([1,2,3])) #> <type 'list'>"
      ],
      "execution_count": null,
      "outputs": [
        {
          "output_type": "stream",
          "name": "stdout",
          "text": [
            "<class 'str'>\n",
            "<class 'str'>\n",
            "<class 'int'>\n",
            "<class 'float'>\n",
            "<class 'bool'>\n",
            "<class 'bool'>\n",
            "<class 'NoneType'>\n",
            "<class 'dict'>\n",
            "<class 'list'>\n"
          ]
        }
      ]
    },
    {
      "cell_type": "code",
      "metadata": {
        "id": "mDiep7S9AaTd"
      },
      "source": [
        "x = 5\n",
        "print(x)"
      ],
      "execution_count": null,
      "outputs": []
    },
    {
      "cell_type": "markdown",
      "metadata": {
        "id": "y-WFStIs4N03"
      },
      "source": [
        "What kinds of operations we can perform with a given object, and how it will respond to those operations, **depends on what datatype** we're working with:"
      ]
    },
    {
      "cell_type": "code",
      "metadata": {
        "id": "War6sslo4YFt"
      },
      "source": [
        ""
      ],
      "execution_count": null,
      "outputs": []
    },
    {
      "cell_type": "markdown",
      "metadata": {
        "id": "iGacNq3g3pl9"
      },
      "source": [
        "## Strings"
      ]
    },
    {
      "cell_type": "markdown",
      "metadata": {
        "id": "2re-AcdA3rFC"
      },
      "source": [
        "Concatenating / joining strings together:"
      ]
    },
    {
      "cell_type": "code",
      "metadata": {
        "id": "w2WRli3B4MRb"
      },
      "source": [
        ""
      ],
      "execution_count": null,
      "outputs": []
    },
    {
      "cell_type": "markdown",
      "metadata": {
        "id": "nnKgKMn44lJf"
      },
      "source": [
        "Manipulating string capitalization / case:"
      ]
    },
    {
      "cell_type": "code",
      "metadata": {
        "id": "K-vLyKYy4rDI"
      },
      "source": [
        ""
      ],
      "execution_count": null,
      "outputs": []
    },
    {
      "cell_type": "markdown",
      "metadata": {
        "id": "6AaDLkkg4bIn"
      },
      "source": [
        "## Numbers"
      ]
    },
    {
      "cell_type": "markdown",
      "metadata": {
        "id": "4fvS5B9e4eXq"
      },
      "source": [
        "Performing arithmetic operations"
      ]
    },
    {
      "cell_type": "code",
      "metadata": {
        "id": "62v84n2P4etg"
      },
      "source": [
        ""
      ],
      "execution_count": null,
      "outputs": []
    },
    {
      "cell_type": "markdown",
      "metadata": {
        "id": "yxAopDlc4uCM"
      },
      "source": [
        "## Booleans \n",
        "\n",
        "See above notes related to conditionals / if statements."
      ]
    },
    {
      "cell_type": "markdown",
      "metadata": {
        "id": "crs0ICTI43ml"
      },
      "source": [
        "## Lists"
      ]
    },
    {
      "cell_type": "markdown",
      "metadata": {
        "id": "Zn-SPBQX46KW"
      },
      "source": [
        "Counting items:"
      ]
    },
    {
      "cell_type": "code",
      "metadata": {
        "id": "-3TR2arr45hG"
      },
      "source": [
        ""
      ],
      "execution_count": null,
      "outputs": []
    },
    {
      "cell_type": "markdown",
      "metadata": {
        "id": "umV6xZhc49vD"
      },
      "source": [
        "Accessing items by their numeric position:"
      ]
    },
    {
      "cell_type": "code",
      "metadata": {
        "id": "MJoSkGHV5AH-"
      },
      "source": [
        ""
      ],
      "execution_count": null,
      "outputs": []
    },
    {
      "cell_type": "markdown",
      "metadata": {
        "id": "Viuvau7h5Br1"
      },
      "source": [
        "Adding an item to the list:"
      ]
    },
    {
      "cell_type": "code",
      "metadata": {
        "id": "L4njchYm5FLQ"
      },
      "source": [
        ""
      ],
      "execution_count": null,
      "outputs": []
    },
    {
      "cell_type": "markdown",
      "metadata": {
        "id": "EroX0wpE5Ghb"
      },
      "source": [
        "Looping through each item in a list to access / process one item at a time:"
      ]
    },
    {
      "cell_type": "code",
      "metadata": {
        "id": "tZc_JdAS5P6N"
      },
      "source": [
        ""
      ],
      "execution_count": null,
      "outputs": []
    },
    {
      "cell_type": "markdown",
      "metadata": {
        "id": "205OUYIa5Q_p"
      },
      "source": [
        "## Dictionaries"
      ]
    },
    {
      "cell_type": "markdown",
      "metadata": {
        "id": "faOqLLAb5TMo"
      },
      "source": [
        "Asking \"what are the keys?\":"
      ]
    },
    {
      "cell_type": "code",
      "metadata": {
        "id": "IC2idj9G5WVj"
      },
      "source": [
        ""
      ],
      "execution_count": null,
      "outputs": []
    },
    {
      "cell_type": "markdown",
      "metadata": {
        "id": "lhLnFJXf5ZIO"
      },
      "source": [
        "Accessing items by their attribute name / key:"
      ]
    },
    {
      "cell_type": "code",
      "metadata": {
        "id": "xmuoSDOj5YY-"
      },
      "source": [
        ""
      ],
      "execution_count": null,
      "outputs": []
    },
    {
      "cell_type": "markdown",
      "metadata": {
        "id": "ti__lADd5c54"
      },
      "source": [
        "Adding items to a dictionary:"
      ]
    },
    {
      "cell_type": "code",
      "metadata": {
        "id": "ckwl-COo5fEv"
      },
      "source": [
        ""
      ],
      "execution_count": null,
      "outputs": []
    }
  ]
}