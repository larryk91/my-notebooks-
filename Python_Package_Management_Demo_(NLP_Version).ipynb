{
  "nbformat": 4,
  "nbformat_minor": 0,
  "metadata": {
    "colab": {
      "name": "Python Package Management Demo (NLP Version)",
      "provenance": [],
      "include_colab_link": true
    },
    "kernelspec": {
      "name": "python3",
      "display_name": "Python 3"
    },
    "language_info": {
      "name": "python"
    }
  },
  "cells": [
    {
      "cell_type": "markdown",
      "metadata": {
        "id": "view-in-github",
        "colab_type": "text"
      },
      "source": [
        "<a href=\"https://colab.research.google.com/github/larryk91/my-notebooks-/blob/main/Python_Package_Management_Demo_(NLP_Version).ipynb\" target=\"_parent\"><img src=\"https://colab.research.google.com/assets/colab-badge.svg\" alt=\"Open In Colab\"/></a>"
      ]
    },
    {
      "cell_type": "markdown",
      "metadata": {
        "id": "pPIXXq9xCovB"
      },
      "source": [
        "# The `pip` Utility\n",
        "\n",
        "Reference:\n",
        "  + https://github.com/prof-rossetti/intro-to-python/blob/main/notes/clis/pip.md\n",
        "\n",
        "\n"
      ]
    },
    {
      "cell_type": "markdown",
      "metadata": {
        "id": "iBuUOEULDT2X"
      },
      "source": [
        "Python packages are third-party libraries of Python code that provide helpful capabilities. All we have to do is search out a package that does what we need to do, consult the package documentation, and follow its instructions.\n",
        "\n",
        "To use the package, it must first be installed into the environment. Then its functionality must separately be \"imported\" into the Python program.\n",
        "\n"
      ]
    },
    {
      "cell_type": "markdown",
      "metadata": {
        "id": "ZMmOzzpeDwXf"
      },
      "source": [
        "## Listing Packages"
      ]
    },
    {
      "cell_type": "markdown",
      "metadata": {
        "id": "CXQ908x_PdvC"
      },
      "source": [
        "To list the packages installed in any environment, use the `pip list` command from the terminal / command-line.\n",
        "\n",
        "FYI - we can prefix a terminal command with exclaimation point (!) to run it from a colab code cell"
      ]
    },
    {
      "cell_type": "code",
      "metadata": {
        "id": "n6wvPNq9CeSF"
      },
      "source": [
        "!pip list"
      ],
      "execution_count": null,
      "outputs": []
    },
    {
      "cell_type": "markdown",
      "metadata": {
        "id": "OokVNRb4DuxM"
      },
      "source": [
        "# Installing Packages"
      ]
    },
    {
      "cell_type": "markdown",
      "metadata": {
        "id": "h3OPJJsYIE0a"
      },
      "source": [
        "The [Python Package Index (PyPI)](https://pypi.org/) is the centralized repository for Python packages. \n",
        "\n",
        "To install a package, we use `pip install my_package_name` where \"my_package_name\" is the official name of the pacakge (see PyPI or package docs for the official name / installation command).\n",
        "\n",
        "Pip installs the corresponding library of Python code into the environment, where it is accessable by our Python code. \n",
        "\n",
        "After installing a package once, we shouldn't need to re-install it into the same environment again (caveat: re-installation may sometimes be neccessary after restarting the colab runtime).\n"
      ]
    },
    {
      "cell_type": "code",
      "metadata": {
        "id": "DCUs5VNJD59k"
      },
      "source": [
        "# !pip install ________"
      ],
      "execution_count": null,
      "outputs": []
    },
    {
      "cell_type": "markdown",
      "metadata": {
        "id": "rk24Dc5TFJzp"
      },
      "source": [
        "# NLP Package Demo (Spacy)"
      ]
    },
    {
      "cell_type": "markdown",
      "metadata": {
        "id": "cealRV_VGDI8"
      },
      "source": [
        "References:\n",
        "  + https://spacy.io/usage/spacy-101\n",
        "  + https://pypi.org/project/spacy/\n",
        "  \n",
        "Spacy is a package for analyzing parts of speech, sentence structures, linguistic features, and much more.\n",
        "\n",
        "The spacy package happens to already be installed in the default colab notebook environment (see `pip list` results above). So we can just import it and start using it according to its instructions."
      ]
    },
    {
      "cell_type": "code",
      "metadata": {
        "id": "V4mjx_OyD8s4"
      },
      "source": [
        "import spacy\n",
        "\n",
        "nlp = spacy.load(\"en_core_web_sm\")\n",
        "\n",
        "# feel free to use your own text\n",
        "text = \"Apple is looking at buying U.K. startup for $1 billion\"\n",
        "\n",
        "doc = nlp(text)\n",
        "\n",
        "for token in doc:\n",
        "    print(token.text.upper(), \"(\", token.pos_, \")\")\n"
      ],
      "execution_count": null,
      "outputs": []
    },
    {
      "cell_type": "code",
      "metadata": {
        "id": "WuPoQwTtMwor"
      },
      "source": [
        "from spacy import displacy # see: https://spacy.io/usage/visualizers\n",
        "\n",
        "displacy.render(doc, style=\"dep\", jupyter=True) # thanks to: https://stackoverflow.com/a/59346936"
      ],
      "execution_count": null,
      "outputs": []
    },
    {
      "cell_type": "markdown",
      "metadata": {
        "id": "nZFYdHzUF9Vl"
      },
      "source": [
        "# NLP Package Demo (Detoxify)"
      ]
    },
    {
      "cell_type": "markdown",
      "metadata": {
        "id": "UWDv3R03GNIE"
      },
      "source": [
        "References:\n",
        "  + https://github.com/unitaryai/detoxify\n",
        "  + https://pypi.org/project/detoxify/\n",
        "\n",
        "Detoxify is a package that helps us detect toxic language.\n",
        "\n",
        "> NOTE: for the purpose of academic instruction, there is some toxic language used below. Have fun but please be responsible.\n",
        "\n",
        "The Detoxify package is not included in this environment by default. To double-check, review the results of our `pip list` command. Before we can use the package according to its instructions, we'll have to first install it via pip.\n",
        "\n",
        "For any package, consult the package documentation to find its corresponding name for use in the pip command."
      ]
    },
    {
      "cell_type": "code",
      "metadata": {
        "id": "2bg0TbQaJlwp"
      },
      "source": [
        "# todo: use pip to install a package \n",
        "#\n",
        "# !pip install ________"
      ],
      "execution_count": null,
      "outputs": []
    },
    {
      "cell_type": "code",
      "metadata": {
        "id": "6tXrcT64Gbph"
      },
      "source": [
        "from detoxify import Detoxify\n",
        "\n",
        "model = Detoxify(\"original\")\n",
        "\n",
        "texts = [\n",
        "    \"RT @SpeakerPelosi: The House cannot choose our impeachment managers until we know what sort of trial the Senate will conduct. President Tr…\",\n",
        "    \"RT @realDonaldTrump: Crazy Nancy Pelosi should spend more time in her decaying city and less time on the Impeachment Hoax! https://t.co/eno…\",\n",
        "    \"you're nice\",\n",
        "    \"f*ck you a$$hole\"\n",
        "] # feel free to try your own texts\n",
        "\n",
        "results = model.predict(texts)\n",
        "\n",
        "\n",
        "\n",
        "from pandas import DataFrame # \"pandas\" is a data processing package we'll focus on later. it is already installed in the colab environment\n",
        "\n",
        "df = DataFrame(results, index=texts).round(5)\n",
        "df.head()"
      ],
      "execution_count": null,
      "outputs": []
    }
  ]
}